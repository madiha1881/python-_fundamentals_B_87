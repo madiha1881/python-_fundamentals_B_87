{
 "cells": [
  {
   "cell_type": "code",
   "execution_count": null,
   "id": "65a1a013-9f72-4729-b679-4792679d604a",
   "metadata": {},
   "outputs": [],
   "source": [
    "Continutation with python programming:"
   ]
  },
  {
   "cell_type": "code",
   "execution_count": null,
   "id": "a302f6b9-1081-4c65-b60c-bef6d47dc6b2",
   "metadata": {},
   "outputs": [],
   "source": [
    "introduction to f strings :"
   ]
  },
  {
   "cell_type": "code",
   "execution_count": null,
   "id": "ef87276d-5be0-4fcc-809b-4fa3d3493aea",
   "metadata": {},
   "outputs": [],
   "source": [
    "# general synatax of f strings"
   ]
  },
  {
   "cell_type": "code",
   "execution_count": null,
   "id": "9d08451e-7a6c-47a4-af18-f1b71822d5f7",
   "metadata": {},
   "outputs": [],
   "source": [
    "f\" custom message {place_holder_1}  {place_holder_2}.........{place_holder....._n}\""
   ]
  },
  {
   "cell_type": "code",
   "execution_count": 20,
   "id": "bde3f567-6762-4f75-b326-c5cc798a7534",
   "metadata": {},
   "outputs": [],
   "source": [
    "firstname = 'balu'\n",
    "lastname =  'arvind'"
   ]
  },
  {
   "cell_type": "code",
   "execution_count": null,
   "id": "eefdd515-81a1-42a7-9538-45873b5203c1",
   "metadata": {},
   "outputs": [],
   "source": [
    "# req : i want to get the full name.....?"
   ]
  },
  {
   "cell_type": "code",
   "execution_count": 22,
   "id": "627ddcfe-2123-402e-b844-6c17c43fbf9e",
   "metadata": {},
   "outputs": [
    {
     "name": "stdout",
     "output_type": "stream",
     "text": [
      "balu arvind\n"
     ]
    }
   ],
   "source": [
    "fullname = f\"{firstname} {lastname}\"\n",
    "\n",
    "print(fullname)"
   ]
  },
  {
   "cell_type": "code",
   "execution_count": 24,
   "id": "190a13ff-9036-4312-a989-ca97ccef6786",
   "metadata": {},
   "outputs": [
    {
     "name": "stdout",
     "output_type": "stream",
     "text": [
      "Balu Arvind\n"
     ]
    }
   ],
   "source": [
    "print(fullname.title())"
   ]
  },
  {
   "cell_type": "code",
   "execution_count": 26,
   "id": "a7f45d99-62de-4037-b5b5-5e2847ba99ea",
   "metadata": {},
   "outputs": [
    {
     "name": "stdout",
     "output_type": "stream",
     "text": [
      "keep up the good work Balu Arvind\n"
     ]
    }
   ],
   "source": [
    "message = f\"keep up the good work {fullname.title()}\"\n",
    "\n",
    "print(message)"
   ]
  },
  {
   "cell_type": "code",
   "execution_count": null,
   "id": "afc50273-d47d-4729-a0bb-6a5b4a8326b2",
   "metadata": {},
   "outputs": [],
   "source": []
  },
  {
   "cell_type": "code",
   "execution_count": null,
   "id": "4bfe02f0-fd67-440b-9f0b-12b7b4565bfb",
   "metadata": {},
   "outputs": [],
   "source": [
    "adding whitespaces to strings :"
   ]
  },
  {
   "cell_type": "code",
   "execution_count": 28,
   "id": "05a23528-5be4-40fb-87ea-e3d897aecc42",
   "metadata": {},
   "outputs": [
    {
     "name": "stdout",
     "output_type": "stream",
     "text": [
      "favourite_prog_language:pythonjavac++swiftreactcpascal\n"
     ]
    }
   ],
   "source": [
    "print(\"favourite_prog_language:pythonjavac++swiftreactcpascal\")"
   ]
  },
  {
   "cell_type": "code",
   "execution_count": 30,
   "id": "fb181ecf-06c1-4bd8-a247-89b373ce2f94",
   "metadata": {},
   "outputs": [
    {
     "name": "stdout",
     "output_type": "stream",
     "text": [
      "favourite_prog_language:\n",
      "python\n",
      "java\n",
      "c++\n",
      "swift\n",
      "react\n",
      "c\n",
      "pascal\n"
     ]
    }
   ],
   "source": [
    "print(\"favourite_prog_language:\\npython\\njava\\nc++\\nswift\\nreact\\nc\\npascal\")   #\\n-----> new Line delimiter"
   ]
  },
  {
   "cell_type": "code",
   "execution_count": 32,
   "id": "4f88e4b8-d9f0-43fc-b358-f6198c4e519e",
   "metadata": {},
   "outputs": [
    {
     "name": "stdout",
     "output_type": "stream",
     "text": [
      "favourite_prog_language:\n",
      "\tpython\n",
      "\tjava\n",
      "\tc++\n",
      "\tswift\n",
      "\treact\n",
      "\tc\n",
      "\tpascal\n"
     ]
    }
   ],
   "source": [
    "print(\"favourite_prog_language:\\n\\tpython\\n\\tjava\\n\\tc++\\n\\tswift\\n\\treact\\n\\tc\\n\\tpascal\") #\\t-----> tab delimiter"
   ]
  },
  {
   "cell_type": "code",
   "execution_count": null,
   "id": "2571ef29-896d-4ee6-aa2a-95925e922589",
   "metadata": {},
   "outputs": [],
   "source": []
  },
  {
   "cell_type": "code",
   "execution_count": null,
   "id": "364cf441-cec9-46e7-8b3e-49ad7cf0620e",
   "metadata": {},
   "outputs": [],
   "source": [
    "Removing whitespaces from the strings :"
   ]
  },
  {
   "cell_type": "code",
   "execution_count": 61,
   "id": "8ffc4766-8227-41aa-a311-b6eb113d2b0c",
   "metadata": {},
   "outputs": [
    {
     "name": "stdout",
     "output_type": "stream",
     "text": [
      "   python\n"
     ]
    }
   ],
   "source": [
    "name = \"   python\"      # example-1   ======> gap on the Left side\n",
    "\n",
    "print(name)"
   ]
  },
  {
   "cell_type": "code",
   "execution_count": 36,
   "id": "fc56b808-9ec5-42ee-aea8-5a2605828e73",
   "metadata": {},
   "outputs": [
    {
     "name": "stdout",
     "output_type": "stream",
     "text": [
      "python\n"
     ]
    }
   ],
   "source": [
    "name2 = 'python'        # example-2   =======>  no gap\n",
    "\n",
    "print(name2)"
   ]
  },
  {
   "cell_type": "code",
   "execution_count": 38,
   "id": "eb4ef74d-a5c0-4e2b-9325-19399ba3bfcd",
   "metadata": {},
   "outputs": [
    {
     "name": "stdout",
     "output_type": "stream",
     "text": [
      "python   \n"
     ]
    }
   ],
   "source": [
    "name3 = 'python   '     # example-3   =======> gap on the right side\n",
    "\n",
    "print(name3)"
   ]
  },
  {
   "cell_type": "code",
   "execution_count": null,
   "id": "6292b545-976c-461f-bd79-faebe07b6e00",
   "metadata": {},
   "outputs": [],
   "source": [
    "strip method"
   ]
  },
  {
   "cell_type": "code",
   "execution_count": null,
   "id": "6206d7ef-d2ff-4569-ba9a-d498de78f15e",
   "metadata": {},
   "outputs": [],
   "source": [
    "left strip  ======> left\n",
    "right strip ======>  right\n",
    "strip"
   ]
  },
  {
   "cell_type": "code",
   "execution_count": 63,
   "id": "29b26251-bb57-4819-826f-6bb46b7f3ef1",
   "metadata": {},
   "outputs": [
    {
     "data": {
      "text/plain": [
       "'python'"
      ]
     },
     "execution_count": 63,
     "metadata": {},
     "output_type": "execute_result"
    }
   ],
   "source": [
    "name.strip()"
   ]
  },
  {
   "cell_type": "code",
   "execution_count": 48,
   "id": "dc774716-3915-441c-9086-2adaed0d7dc0",
   "metadata": {},
   "outputs": [
    {
     "data": {
      "text/plain": [
       "'python'"
      ]
     },
     "execution_count": 48,
     "metadata": {},
     "output_type": "execute_result"
    }
   ],
   "source": [
    "name3.strip()"
   ]
  },
  {
   "cell_type": "code",
   "execution_count": null,
   "id": "e305196c-7b9e-49f3-b82c-472e45a2eed1",
   "metadata": {},
   "outputs": [],
   "source": []
  },
  {
   "cell_type": "code",
   "execution_count": null,
   "id": "89706297-05dd-4932-b40d-d22088812222",
   "metadata": {},
   "outputs": [],
   "source": [
    "Zen of python :"
   ]
  },
  {
   "cell_type": "code",
   "execution_count": 51,
   "id": "b57c2ab0-9109-4089-bfbc-8358f4dea9b2",
   "metadata": {},
   "outputs": [
    {
     "name": "stdout",
     "output_type": "stream",
     "text": [
      "The Zen of Python, by Tim Peters\n",
      "\n",
      "Beautiful is better than ugly.\n",
      "Explicit is better than implicit.\n",
      "Simple is better than complex.\n",
      "Complex is better than complicated.\n",
      "Flat is better than nested.\n",
      "Sparse is better than dense.\n",
      "Readability counts.\n",
      "Special cases aren't special enough to break the rules.\n",
      "Although practicality beats purity.\n",
      "Errors should never pass silently.\n",
      "Unless explicitly silenced.\n",
      "In the face of ambiguity, refuse the temptation to guess.\n",
      "There should be one-- and preferably only one --obvious way to do it.\n",
      "Although that way may not be obvious at first unless you're Dutch.\n",
      "Now is better than never.\n",
      "Although never is often better than *right* now.\n",
      "If the implementation is hard to explain, it's a bad idea.\n",
      "If the implementation is easy to explain, it may be a good idea.\n",
      "Namespaces are one honking great idea -- let's do more of those!\n"
     ]
    }
   ],
   "source": [
    "import this "
   ]
  },
  {
   "cell_type": "code",
   "execution_count": null,
   "id": "e1c2154d-46bf-44f6-82c4-429c40f6f1b6",
   "metadata": {},
   "outputs": [],
   "source": []
  }
 ],
 "metadata": {
  "kernelspec": {
   "display_name": "Python 3 (ipykernel)",
   "language": "python",
   "name": "python3"
  },
  "language_info": {
   "codemirror_mode": {
    "name": "ipython",
    "version": 3
   },
   "file_extension": ".py",
   "mimetype": "text/x-python",
   "name": "python",
   "nbconvert_exporter": "python",
   "pygments_lexer": "ipython3",
   "version": "3.12.4"
  }
 },
 "nbformat": 4,
 "nbformat_minor": 5
}
