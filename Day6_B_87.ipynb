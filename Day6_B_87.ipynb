{
 "cells": [
  {
   "cell_type": "code",
   "execution_count": null,
   "id": "62e9d8f8-8c7f-4fd1-be17-0f42aebc0345",
   "metadata": {},
   "outputs": [],
   "source": [
    "continuation with list datatype :"
   ]
  },
  {
   "cell_type": "code",
   "execution_count": null,
   "id": "31cfd83e-ad99-45d2-8338-75320d95b85d",
   "metadata": {},
   "outputs": [],
   "source": [
    "introduction to looping statements :"
   ]
  },
  {
   "cell_type": "code",
   "execution_count": null,
   "id": "319701c2-61cd-41e1-916a-0bbeb0058e6e",
   "metadata": {},
   "outputs": [],
   "source": [
    "# for loop"
   ]
  },
  {
   "cell_type": "code",
   "execution_count": null,
   "id": "f59327d4-92ac-4b57-8152-e0c2fee5a4f6",
   "metadata": {},
   "outputs": [],
   "source": [
    "# general syntax of for loop :"
   ]
  },
  {
   "cell_type": "code",
   "execution_count": null,
   "id": "19a4c131-fdd6-4e2c-90b5-09ab5a176626",
   "metadata": {},
   "outputs": [],
   "source": [
    "for tempvar in mainvar:\n",
    "    print(tempvar)"
   ]
  },
  {
   "cell_type": "code",
   "execution_count": null,
   "id": "4ae0a6b5-a282-43b2-ac02-3cbee17b3d9c",
   "metadata": {},
   "outputs": [],
   "source": []
  },
  {
   "cell_type": "code",
   "execution_count": 7,
   "id": "2fd674fa-66f2-4371-bf70-1cbc4e5433a4",
   "metadata": {},
   "outputs": [],
   "source": [
    "students = ['naveen','amer','uday','sameer','anusha','bushra','Kiran']"
   ]
  },
  {
   "cell_type": "code",
   "execution_count": 9,
   "id": "113bb6ed-5d5b-4bdb-852d-227259f9a4c3",
   "metadata": {},
   "outputs": [
    {
     "name": "stdout",
     "output_type": "stream",
     "text": [
      "['naveen', 'amer', 'uday', 'sameer', 'anusha', 'bushra', 'Kiran']\n"
     ]
    }
   ],
   "source": [
    "print(students)"
   ]
  },
  {
   "cell_type": "code",
   "execution_count": null,
   "id": "ce91beaf-0eda-4061-8566-bb84f2e6118e",
   "metadata": {},
   "outputs": [],
   "source": []
  },
  {
   "cell_type": "code",
   "execution_count": 11,
   "id": "5594bf09-95c1-4169-b8e7-5fa1445e39ca",
   "metadata": {},
   "outputs": [
    {
     "name": "stdout",
     "output_type": "stream",
     "text": [
      "keep up the good work, Naveen\n"
     ]
    }
   ],
   "source": [
    "print(f\"keep up the good work, {students[0].title()}\")"
   ]
  },
  {
   "cell_type": "code",
   "execution_count": 13,
   "id": "476e9577-7dee-4a45-b4ad-3a572cce9375",
   "metadata": {},
   "outputs": [
    {
     "name": "stdout",
     "output_type": "stream",
     "text": [
      "keep up the good work, Amer\n"
     ]
    }
   ],
   "source": [
    "print(f\"keep up the good work, {students[1].title()}\")"
   ]
  },
  {
   "cell_type": "code",
   "execution_count": null,
   "id": "0132ffcf-d8ab-493a-992c-536a4588ca18",
   "metadata": {},
   "outputs": [],
   "source": []
  },
  {
   "cell_type": "code",
   "execution_count": 15,
   "id": "4d287ed9-940d-413e-a77c-9490be0ea9f9",
   "metadata": {},
   "outputs": [
    {
     "name": "stdout",
     "output_type": "stream",
     "text": [
      "keep up the good work, Naveen\n",
      "keep up the good work, Amer\n",
      "keep up the good work, Uday\n",
      "keep up the good work, Sameer\n",
      "keep up the good work, Anusha\n",
      "keep up the good work, Bushra\n",
      "keep up the good work, Kiran\n"
     ]
    }
   ],
   "source": [
    "for student in students:\n",
    "    print(f\"keep up the good work, {student.title()}\")"
   ]
  },
  {
   "cell_type": "code",
   "execution_count": 17,
   "id": "43966232-8d1d-47fd-a1a6-4efe018ba4cb",
   "metadata": {},
   "outputs": [
    {
     "name": "stdout",
     "output_type": "stream",
     "text": [
      "keep up the good work, Naveen\n",
      "keep up the good work, Amer\n",
      "keep up the good work, Uday\n",
      "keep up the good work, Sameer\n",
      "keep up the good work, Anusha\n",
      "keep up the good work, Bushra\n",
      "keep up the good work, Kiran\n"
     ]
    }
   ],
   "source": [
    "for a in students:\n",
    "    print(f\"keep up the good work, {a.title()}\")"
   ]
  },
  {
   "cell_type": "code",
   "execution_count": 23,
   "id": "a3567895-8696-45a5-968f-7b95d6c5fa3a",
   "metadata": {},
   "outputs": [
    {
     "ename": "IndentationError",
     "evalue": "expected an indented block after 'for' statement on line 1 (2153336394.py, line 2)",
     "output_type": "error",
     "traceback": [
      "\u001b[1;36m  Cell \u001b[1;32mIn[23], line 2\u001b[1;36m\u001b[0m\n\u001b[1;33m    print(f\"keep up the good work, {a.title()}\")\u001b[0m\n\u001b[1;37m    ^\u001b[0m\n\u001b[1;31mIndentationError\u001b[0m\u001b[1;31m:\u001b[0m expected an indented block after 'for' statement on line 1\n"
     ]
    }
   ],
   "source": [
    "for a in students:\n",
    "print(f\"keep up the good work, {a.title()}\")"
   ]
  },
  {
   "cell_type": "code",
   "execution_count": null,
   "id": "70bf5d8d-6994-45db-8a59-1c34ef374ee4",
   "metadata": {},
   "outputs": [],
   "source": [
    "for tempvar in mainvar:\n",
    "    print(tempvar)"
   ]
  },
  {
   "cell_type": "code",
   "execution_count": 25,
   "id": "0ab2d5a9-5817-4d27-b668-0d24c347154a",
   "metadata": {},
   "outputs": [
    {
     "name": "stdout",
     "output_type": "stream",
     "text": [
      "naveen\n",
      "amer\n",
      "uday\n",
      "sameer\n",
      "anusha\n",
      "bushra\n",
      "Kiran\n"
     ]
    }
   ],
   "source": [
    "for ironman in students:\n",
    "    print(ironman)"
   ]
  },
  {
   "cell_type": "code",
   "execution_count": null,
   "id": "60a20164-7271-4754-be11-575334cde629",
   "metadata": {},
   "outputs": [],
   "source": [
    "# req : i am waiting for todays submission"
   ]
  },
  {
   "cell_type": "code",
   "execution_count": 29,
   "id": "ff1e7f63-fc91-4696-98b8-9bfc0a0e542a",
   "metadata": {},
   "outputs": [
    {
     "name": "stdout",
     "output_type": "stream",
     "text": [
      "keep up the good work, Naveen\n",
      "i m waiting to receive your todays submission, Naveen\n",
      "keep up the good work, Amer\n",
      "i m waiting to receive your todays submission, Amer\n",
      "keep up the good work, Uday\n",
      "i m waiting to receive your todays submission, Uday\n",
      "keep up the good work, Sameer\n",
      "i m waiting to receive your todays submission, Sameer\n",
      "keep up the good work, Anusha\n",
      "i m waiting to receive your todays submission, Anusha\n",
      "keep up the good work, Bushra\n",
      "i m waiting to receive your todays submission, Bushra\n",
      "keep up the good work, Kiran\n",
      "i m waiting to receive your todays submission, Kiran\n"
     ]
    }
   ],
   "source": [
    "for student in students:\n",
    "    print(f\"keep up the good work, {student.title()}\")\n",
    "    print(f\"i m waiting to receive your todays submission, {student.title()}\")"
   ]
  },
  {
   "cell_type": "code",
   "execution_count": 33,
   "id": "8b30367f-85d9-49ce-8e15-a2d03285c8b9",
   "metadata": {},
   "outputs": [
    {
     "name": "stdout",
     "output_type": "stream",
     "text": [
      "keep up the good work, Naveen\n",
      "i m waiting to receive your todays submission, Naveen\n",
      "\n",
      "keep up the good work, Amer\n",
      "i m waiting to receive your todays submission, Amer\n",
      "\n",
      "keep up the good work, Uday\n",
      "i m waiting to receive your todays submission, Uday\n",
      "\n",
      "keep up the good work, Sameer\n",
      "i m waiting to receive your todays submission, Sameer\n",
      "\n",
      "keep up the good work, Anusha\n",
      "i m waiting to receive your todays submission, Anusha\n",
      "\n",
      "keep up the good work, Bushra\n",
      "i m waiting to receive your todays submission, Bushra\n",
      "\n",
      "keep up the good work, Kiran\n",
      "i m waiting to receive your todays submission, Kiran\n",
      "\n"
     ]
    }
   ],
   "source": [
    "for student in students:\n",
    "    print(f\"keep up the good work, {student.title()}\")\n",
    "    print(f\"i m waiting to receive your todays submission, {student.title()}\\n\")"
   ]
  },
  {
   "cell_type": "code",
   "execution_count": 41,
   "id": "2c9e0753-6083-4c75-bc03-7695076b8ddf",
   "metadata": {},
   "outputs": [
    {
     "name": "stdout",
     "output_type": "stream",
     "text": [
      "keep up the good work, Naveen\n",
      "i m waiting to receive your todays submission, Naveen\n",
      "\n",
      "keep up the good work, Amer\n",
      "i m waiting to receive your todays submission, Amer\n",
      "\n",
      "keep up the good work, Uday\n",
      "i m waiting to receive your todays submission, Uday\n",
      "\n",
      "keep up the good work, Sameer\n",
      "i m waiting to receive your todays submission, Sameer\n",
      "\n",
      "keep up the good work, Anusha\n",
      "i m waiting to receive your todays submission, Anusha\n",
      "\n",
      "keep up the good work, Bushra\n",
      "i m waiting to receive your todays submission, Bushra\n",
      "\n",
      "keep up the good work, Kiran\n",
      "i m waiting to receive your todays submission, Kiran\n",
      "\n",
      "Thank you all for showing intrest in learning python\n"
     ]
    }
   ],
   "source": [
    "for student in students:\n",
    "    print(f\"keep up the good work, {student.title()}\")\n",
    "    print(f\"i m waiting to receive your todays submission, {student.title()}\\n\")\n",
    "    \n",
    "print(\"Thank you all for showing intrest in learning python\")"
   ]
  },
  {
   "cell_type": "code",
   "execution_count": null,
   "id": "8396be4b-2c35-437e-9a15-bfd50ea23ef9",
   "metadata": {},
   "outputs": [],
   "source": []
  }
 ],
 "metadata": {
  "kernelspec": {
   "display_name": "Python 3 (ipykernel)",
   "language": "python",
   "name": "python3"
  },
  "language_info": {
   "codemirror_mode": {
    "name": "ipython",
    "version": 3
   },
   "file_extension": ".py",
   "mimetype": "text/x-python",
   "name": "python",
   "nbconvert_exporter": "python",
   "pygments_lexer": "ipython3",
   "version": "3.12.4"
  }
 },
 "nbformat": 4,
 "nbformat_minor": 5
}
