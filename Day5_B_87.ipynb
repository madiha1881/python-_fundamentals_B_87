{
 "cells": [
  {
   "cell_type": "code",
   "execution_count": null,
   "id": "350281f6-20a9-4ba9-b1e4-f81632ab710e",
   "metadata": {},
   "outputs": [],
   "source": [
    "Continuation with list datatype :"
   ]
  },
  {
   "cell_type": "code",
   "execution_count": null,
   "id": "1dd09f51-ecff-4a6a-b1fd-39bdd924fc3d",
   "metadata": {},
   "outputs": [],
   "source": []
  },
  {
   "cell_type": "code",
   "execution_count": null,
   "id": "a94dea1c-4cd5-45e8-bd9e-ac7a11988527",
   "metadata": {},
   "outputs": [],
   "source": [
    "Organising the list datatype :"
   ]
  },
  {
   "cell_type": "code",
   "execution_count": null,
   "id": "75e5a7b5-51da-4631-8de5-a09b67c81e8c",
   "metadata": {},
   "outputs": [],
   "source": []
  },
  {
   "cell_type": "code",
   "execution_count": 1,
   "id": "487d76f9-ce8b-4dc6-bac3-4a39a6852d80",
   "metadata": {},
   "outputs": [],
   "source": [
    "cars = ['benz','maruthi','audi','suziki','bmw','kia','byd','tesla','volksvogon']"
   ]
  },
  {
   "cell_type": "code",
   "execution_count": 3,
   "id": "b16c8c41-20f9-406a-a687-efe9bd830404",
   "metadata": {},
   "outputs": [
    {
     "name": "stdout",
     "output_type": "stream",
     "text": [
      "['benz', 'maruthi', 'audi', 'suziki', 'bmw', 'kia', 'byd', 'tesla', 'volksvogon']\n"
     ]
    }
   ],
   "source": [
    "print(cars)"
   ]
  },
  {
   "cell_type": "code",
   "execution_count": null,
   "id": "ae585fc3-6541-4ab0-bbca-34c2f4df0932",
   "metadata": {},
   "outputs": [],
   "source": [
    "# req : A - Z order"
   ]
  },
  {
   "cell_type": "code",
   "execution_count": null,
   "id": "9eca4ce1-f7d4-440e-91a1-d0b419009aa6",
   "metadata": {},
   "outputs": [],
   "source": [
    "two approcahes:\n",
    "\n",
    "      1. temp approach     ===========================> sorted method =====> we will be getting theback in orginal order.\n",
    "\n",
    "      2. permanent apprach --------------------------> sort method   =====> changes are applied permanently."
   ]
  },
  {
   "cell_type": "code",
   "execution_count": null,
   "id": "89842b07-9540-4a56-bcb1-8ec4c2296a64",
   "metadata": {},
   "outputs": [],
   "source": []
  },
  {
   "cell_type": "code",
   "execution_count": 5,
   "id": "faac6702-207a-46b4-b149-27016985cd6f",
   "metadata": {},
   "outputs": [
    {
     "name": "stdout",
     "output_type": "stream",
     "text": [
      "['audi', 'benz', 'bmw', 'byd', 'kia', 'maruthi', 'suziki', 'tesla', 'volksvogon']\n"
     ]
    }
   ],
   "source": [
    "print(sorted(cars))"
   ]
  },
  {
   "cell_type": "code",
   "execution_count": null,
   "id": "0e5f4c9c-dd62-4d97-b55b-876e6f065a27",
   "metadata": {},
   "outputs": [],
   "source": [
    "# audi, benz, bmw ,byd, kia"
   ]
  },
  {
   "cell_type": "code",
   "execution_count": 7,
   "id": "4f823357-b765-4a7c-83ea-8844eb8f3c65",
   "metadata": {},
   "outputs": [
    {
     "name": "stdout",
     "output_type": "stream",
     "text": [
      "['benz', 'maruthi', 'audi', 'suziki', 'bmw', 'kia', 'byd', 'tesla', 'volksvogon']\n"
     ]
    }
   ],
   "source": [
    "print(cars) # orginal order"
   ]
  },
  {
   "cell_type": "code",
   "execution_count": null,
   "id": "db6afe33-9a25-496f-9e23-ec5232f5c9db",
   "metadata": {},
   "outputs": [],
   "source": [
    "# benz, bmw, byd'"
   ]
  },
  {
   "cell_type": "code",
   "execution_count": null,
   "id": "e44bd601-c416-4fd9-82b4-76abd07b6b42",
   "metadata": {},
   "outputs": [],
   "source": [
    "# B, B, B\n",
    "\n",
    "e,m,y"
   ]
  },
  {
   "cell_type": "code",
   "execution_count": 9,
   "id": "fa58a96c-659a-4461-abbd-10481b2ac2b5",
   "metadata": {},
   "outputs": [],
   "source": [
    "cars.sort()"
   ]
  },
  {
   "cell_type": "code",
   "execution_count": 11,
   "id": "b6c3e0aa-c0ec-46c5-a69d-c9b17dfb6746",
   "metadata": {},
   "outputs": [
    {
     "name": "stdout",
     "output_type": "stream",
     "text": [
      "['audi', 'benz', 'bmw', 'byd', 'kia', 'maruthi', 'suziki', 'tesla', 'volksvogon']\n"
     ]
    }
   ],
   "source": [
    "print(cars)      "
   ]
  },
  {
   "cell_type": "code",
   "execution_count": 13,
   "id": "a5980d56-151d-4336-95a6-5bcba0b9bc93",
   "metadata": {},
   "outputs": [
    {
     "name": "stdout",
     "output_type": "stream",
     "text": [
      "['audi', 'benz', 'bmw', 'byd', 'kia', 'maruthi', 'suziki', 'tesla', 'volksvogon']\n"
     ]
    }
   ],
   "source": [
    "print(cars)"
   ]
  },
  {
   "cell_type": "code",
   "execution_count": null,
   "id": "75cc39f1-73bb-40fe-9f0c-a4db7d0986c5",
   "metadata": {},
   "outputs": [],
   "source": [
    "Interview_question : what is the different between sorted and sort method in the list datatype......!"
   ]
  },
  {
   "cell_type": "code",
   "execution_count": null,
   "id": "2956c517-f1f7-4006-810b-c57654180b14",
   "metadata": {},
   "outputs": [],
   "source": [
    "# req: i want to known for length of list"
   ]
  },
  {
   "cell_type": "code",
   "execution_count": 15,
   "id": "cb49d43a-4384-42bd-81cb-90c124869acd",
   "metadata": {},
   "outputs": [
    {
     "data": {
      "text/plain": [
       "9"
      ]
     },
     "execution_count": 15,
     "metadata": {},
     "output_type": "execute_result"
    }
   ],
   "source": [
    "len(cars)"
   ]
  },
  {
   "cell_type": "code",
   "execution_count": null,
   "id": "e911d46a-9d70-48be-89f9-99119ab0e050",
   "metadata": {},
   "outputs": [],
   "source": [
    "# req: Z - A"
   ]
  },
  {
   "cell_type": "code",
   "execution_count": 17,
   "id": "740f5b00-3e53-45ab-9c7e-dab6581d7804",
   "metadata": {},
   "outputs": [],
   "source": [
    "cars.reverse()"
   ]
  },
  {
   "cell_type": "code",
   "execution_count": 19,
   "id": "c2e20636-3fce-4065-9d86-1dceff47d9e2",
   "metadata": {},
   "outputs": [
    {
     "name": "stdout",
     "output_type": "stream",
     "text": [
      "['volksvogon', 'tesla', 'suziki', 'maruthi', 'kia', 'byd', 'bmw', 'benz', 'audi']\n"
     ]
    }
   ],
   "source": [
    "print(cars)      "
   ]
  },
  {
   "cell_type": "code",
   "execution_count": null,
   "id": "69e1a681-2331-472e-924a-3d1e6d969f00",
   "metadata": {},
   "outputs": [],
   "source": []
  },
  {
   "cell_type": "code",
   "execution_count": null,
   "id": "5abc8316-69a7-40ee-84b4-58870f722bde",
   "metadata": {},
   "outputs": [],
   "source": [
    "Introduction of slicing:"
   ]
  },
  {
   "cell_type": "code",
   "execution_count": null,
   "id": "72ed8f1a-5519-4d83-b35d-8ee9f594f10b",
   "metadata": {},
   "outputs": [],
   "source": [
    "# General syntax of slicing"
   ]
  },
  {
   "cell_type": "code",
   "execution_count": null,
   "id": "d079035a-a575-4889-89e4-97cd91a7ef9b",
   "metadata": {},
   "outputs": [],
   "source": [
    "[start_value:stop_value:step_count]"
   ]
  },
  {
   "cell_type": "code",
   "execution_count": null,
   "id": "71ab5125-6fb9-479b-bc76-468c4424b3bd",
   "metadata": {},
   "outputs": [],
   "source": [
    "Note_point : stop_value is always exclusive, to include the stop value we have to increment the index by +1."
   ]
  },
  {
   "cell_type": "code",
   "execution_count": null,
   "id": "e82d8ed8-4c0a-4118-b1a0-1a02f5ba36a4",
   "metadata": {},
   "outputs": [],
   "source": []
  },
  {
   "cell_type": "code",
   "execution_count": 21,
   "id": "ab382873-4376-4e60-8d3c-4612e47947cb",
   "metadata": {},
   "outputs": [],
   "source": [
    "students = ['aditi','naveen','saima','keerthi','nowman','joseph','harika','parveen']"
   ]
  },
  {
   "cell_type": "code",
   "execution_count": 23,
   "id": "572fa463-d07d-4d9f-bd0c-3d2d188a1250",
   "metadata": {},
   "outputs": [
    {
     "name": "stdout",
     "output_type": "stream",
     "text": [
      "['aditi', 'naveen', 'saima', 'keerthi', 'nowman', 'joseph', 'harika', 'parveen']\n"
     ]
    }
   ],
   "source": [
    "print(students)"
   ]
  },
  {
   "cell_type": "code",
   "execution_count": null,
   "id": "71bed5cc-e94c-4d4e-a481-32b3c49cbfe7",
   "metadata": {},
   "outputs": [],
   "source": []
  },
  {
   "cell_type": "code",
   "execution_count": null,
   "id": "d0d93b99-cebb-46db-ab00-83c6cf1cc690",
   "metadata": {},
   "outputs": [],
   "source": [
    "# req: i want lets say aditi and naveen in the output."
   ]
  },
  {
   "cell_type": "code",
   "execution_count": 25,
   "id": "4fd69936-427a-44fe-a119-bb7414c29ce7",
   "metadata": {},
   "outputs": [
    {
     "name": "stdout",
     "output_type": "stream",
     "text": [
      "['aditi']\n"
     ]
    }
   ],
   "source": [
    "print(students[0:1])"
   ]
  },
  {
   "cell_type": "code",
   "execution_count": 27,
   "id": "6db3e222-89cb-49b1-b4a8-eab1431d6e99",
   "metadata": {},
   "outputs": [
    {
     "name": "stdout",
     "output_type": "stream",
     "text": [
      "['aditi', 'naveen']\n"
     ]
    }
   ],
   "source": [
    "print(students[0:2])"
   ]
  },
  {
   "cell_type": "code",
   "execution_count": null,
   "id": "477160d4-6f33-485b-8785-369992e73bc7",
   "metadata": {},
   "outputs": [],
   "source": [
    "# req  : saima and keerthi in the output."
   ]
  },
  {
   "cell_type": "code",
   "execution_count": 31,
   "id": "60c7077d-9c3e-4fb3-9d1e-c226039d5c56",
   "metadata": {},
   "outputs": [
    {
     "name": "stdout",
     "output_type": "stream",
     "text": [
      "['saima', 'keerthi']\n"
     ]
    }
   ],
   "source": [
    "print(students[2:4])"
   ]
  },
  {
   "cell_type": "code",
   "execution_count": null,
   "id": "39dc4717-3f4e-41ae-9871-a52301352dd8",
   "metadata": {},
   "outputs": [],
   "source": [
    "# req : nowman and jospeh in the output."
   ]
  },
  {
   "cell_type": "code",
   "execution_count": 33,
   "id": "7398c32a-a880-466e-b3c8-4800a6af91e2",
   "metadata": {},
   "outputs": [
    {
     "name": "stdout",
     "output_type": "stream",
     "text": [
      "['nowman', 'joseph']\n"
     ]
    }
   ],
   "source": [
    "print(students[4:6])"
   ]
  },
  {
   "cell_type": "code",
   "execution_count": null,
   "id": "ef3a3c84-c61d-4c92-a67d-ae4ce74f2bf9",
   "metadata": {},
   "outputs": [],
   "source": [
    "# req : harika and parveen in the output."
   ]
  },
  {
   "cell_type": "code",
   "execution_count": 35,
   "id": "acd3a33b-ed97-4833-8804-5c0b73b09955",
   "metadata": {},
   "outputs": [
    {
     "name": "stdout",
     "output_type": "stream",
     "text": [
      "['harika', 'parveen']\n"
     ]
    }
   ],
   "source": [
    "print(students[6:8])"
   ]
  },
  {
   "cell_type": "code",
   "execution_count": null,
   "id": "78f8eaa8-cd56-4992-be39-6d857582ee07",
   "metadata": {},
   "outputs": [],
   "source": [
    "# implimentation of step value"
   ]
  },
  {
   "cell_type": "code",
   "execution_count": 37,
   "id": "fea07b37-23c9-4d4e-8efa-ac4120c15115",
   "metadata": {},
   "outputs": [
    {
     "name": "stdout",
     "output_type": "stream",
     "text": [
      "['aditi', 'naveen', 'saima', 'keerthi', 'nowman', 'joseph', 'harika', 'parveen']\n"
     ]
    }
   ],
   "source": [
    "print(students)"
   ]
  },
  {
   "cell_type": "code",
   "execution_count": 39,
   "id": "21cfcdab-6b4f-4c4d-a060-69e37d47693d",
   "metadata": {},
   "outputs": [
    {
     "name": "stdout",
     "output_type": "stream",
     "text": [
      "['aditi', 'saima', 'nowman', 'harika']\n"
     ]
    }
   ],
   "source": [
    "print(students[0:8:2])"
   ]
  },
  {
   "cell_type": "code",
   "execution_count": null,
   "id": "21c76c53-f815-4321-ac14-656153af4525",
   "metadata": {},
   "outputs": [],
   "source": []
  },
  {
   "cell_type": "code",
   "execution_count": null,
   "id": "37ac8520-dd10-4cb2-9982-d2de178fd1d2",
   "metadata": {},
   "outputs": [],
   "source": [
    "string and list difference:"
   ]
  },
  {
   "cell_type": "code",
   "execution_count": null,
   "id": "f248dc4e-78fd-46e6-a225-a241f5f7d28d",
   "metadata": {},
   "outputs": [],
   "source": [
    "string Defination : A string is nothing but a series of characters daclared in quotes.\n",
    "\n",
    "Classification    : It is classified as an immutable datatype.\n",
    "\n",
    "how to declare the string datatype --------> ?\n",
    "\n",
    "1. Single quote =====> '  '\n",
    "\n",
    "2. Double quote =====> \"  \""
   ]
  },
  {
   "cell_type": "code",
   "execution_count": null,
   "id": "12d551cb-969a-45a4-a4df-1d888dbdc14c",
   "metadata": {},
   "outputs": [],
   "source": [
    "list Defination : A list is a collection of items decalred in a particular order.\n",
    "\n",
    "classification : it is classified as an mutable datatype\n",
    "\n",
    "How to declare the list datatype ----------> [ ]"
   ]
  }
 ],
 "metadata": {
  "kernelspec": {
   "display_name": "Python 3 (ipykernel)",
   "language": "python",
   "name": "python3"
  },
  "language_info": {
   "codemirror_mode": {
    "name": "ipython",
    "version": 3
   },
   "file_extension": ".py",
   "mimetype": "text/x-python",
   "name": "python",
   "nbconvert_exporter": "python",
   "pygments_lexer": "ipython3",
   "version": "3.12.4"
  }
 },
 "nbformat": 4,
 "nbformat_minor": 5
}
