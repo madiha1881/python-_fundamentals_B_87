{
 "cells": [
  {
   "cell_type": "code",
   "execution_count": null,
   "id": "9fff5725-5afe-4d2c-a1ca-05e4f3fb13d6",
   "metadata": {},
   "outputs": [],
   "source": [
    "introduction to list datatype :"
   ]
  },
  {
   "cell_type": "code",
   "execution_count": null,
   "id": "2bc0d4f6-764a-470c-a1cf-68094e822ba0",
   "metadata": {},
   "outputs": [],
   "source": [
    "Defination : A list is a collection of items decalred in a particular order.\n",
    "\n",
    "classification : it is classified as an mutable datatype\n",
    "\n",
    "How to declare the list datatype ----------> [ ]"
   ]
  },
  {
   "cell_type": "code",
   "execution_count": null,
   "id": "17a1d547-0c79-4045-94ce-826a4cf20fa6",
   "metadata": {},
   "outputs": [],
   "source": []
  },
  {
   "cell_type": "code",
   "execution_count": 1,
   "id": "b9105dfe-4064-4f94-88ee-ff287e7904b1",
   "metadata": {},
   "outputs": [],
   "source": [
    "students = [ 'salma' ,'keerthi' ,'naveen','mujeeb','sajith','meghana',]  # 0,1,2,3,4,5"
   ]
  },
  {
   "cell_type": "code",
   "execution_count": 3,
   "id": "8bc47e58-92ec-4200-b2eb-db49ff9deb09",
   "metadata": {},
   "outputs": [
    {
     "name": "stdout",
     "output_type": "stream",
     "text": [
      "['salma', 'keerthi', 'naveen', 'mujeeb', 'sajith', 'meghana']\n"
     ]
    }
   ],
   "source": [
    "print(students)"
   ]
  },
  {
   "cell_type": "code",
   "execution_count": null,
   "id": "6e394d75-ce3c-4d46-83e8-37dad12d3fa3",
   "metadata": {},
   "outputs": [],
   "source": []
  },
  {
   "cell_type": "code",
   "execution_count": null,
   "id": "df15eca3-b559-4ec8-86b4-2c1b4f3d62ba",
   "metadata": {},
   "outputs": [],
   "source": [
    "introduction to indexing : 0,1,2,3,...........n"
   ]
  },
  {
   "cell_type": "code",
   "execution_count": null,
   "id": "1720293f-0df5-4b0e-9bad-ff7b07a275e9",
   "metadata": {},
   "outputs": [],
   "source": [
    "# 1.How to access the elements from the list"
   ]
  },
  {
   "cell_type": "code",
   "execution_count": null,
   "id": "77120a32-216f-455c-bc67-0f38aae7f5a7",
   "metadata": {},
   "outputs": [],
   "source": [
    "# req : i want to access keerthi name in the output.......?"
   ]
  },
  {
   "cell_type": "code",
   "execution_count": 5,
   "id": "5b3507d7-5dd7-46b9-968a-01862852b8b9",
   "metadata": {},
   "outputs": [
    {
     "name": "stdout",
     "output_type": "stream",
     "text": [
      "keerthi\n"
     ]
    }
   ],
   "source": [
    "print(students[1])"
   ]
  },
  {
   "cell_type": "code",
   "execution_count": 7,
   "id": "5921b6d7-5014-4ca5-b512-c0331e94918e",
   "metadata": {},
   "outputs": [
    {
     "name": "stdout",
     "output_type": "stream",
     "text": [
      "Keerthi\n"
     ]
    }
   ],
   "source": [
    "print(students[1].title())"
   ]
  },
  {
   "cell_type": "code",
   "execution_count": null,
   "id": "8dd1fc2c-5710-4663-b026-785cc3729636",
   "metadata": {},
   "outputs": [],
   "source": [
    "# req : i want to access Mujeeb name in the output.......?"
   ]
  },
  {
   "cell_type": "code",
   "execution_count": 9,
   "id": "99b2f004-d1a1-49ca-875b-d6b258a8edd5",
   "metadata": {},
   "outputs": [
    {
     "name": "stdout",
     "output_type": "stream",
     "text": [
      "Mujeeb\n"
     ]
    }
   ],
   "source": [
    "print(students[3].title())"
   ]
  },
  {
   "cell_type": "code",
   "execution_count": null,
   "id": "0cbbcb29-8a77-4e20-91a0-55f32b3ce33a",
   "metadata": {},
   "outputs": [],
   "source": []
  },
  {
   "cell_type": "code",
   "execution_count": null,
   "id": "1c09c2bd-c6ed-4cdb-a3e3-c36977ca1576",
   "metadata": {},
   "outputs": [],
   "source": [
    "1. how to add new elements in the list      ============ completed.\n",
    "\n",
    "2. how to modify the elements in the list   ============ completed.\n",
    "\n",
    "3. how to delete the elements in the list   ============ completed."
   ]
  },
  {
   "cell_type": "code",
   "execution_count": 11,
   "id": "0ea4824d-a7f3-47e8-bf09-7dba297b5349",
   "metadata": {},
   "outputs": [
    {
     "name": "stdout",
     "output_type": "stream",
     "text": [
      "['salma', 'keerthi', 'naveen', 'mujeeb', 'sajith', 'meghana']\n"
     ]
    }
   ],
   "source": [
    "print(students)"
   ]
  },
  {
   "cell_type": "code",
   "execution_count": null,
   "id": "69f1ce1f-9a73-4b1e-8c0b-a2ed6eb233b5",
   "metadata": {},
   "outputs": [],
   "source": [
    "# req : i want to add sujitha to the above list...."
   ]
  },
  {
   "cell_type": "code",
   "execution_count": 17,
   "id": "7986e39a-864d-4d3b-bd37-93bcb9fedaf9",
   "metadata": {},
   "outputs": [],
   "source": [
    "students.append('sujitha')"
   ]
  },
  {
   "cell_type": "code",
   "execution_count": 19,
   "id": "ac123bdc-3cdf-4289-b5f2-027830340c1b",
   "metadata": {},
   "outputs": [
    {
     "name": "stdout",
     "output_type": "stream",
     "text": [
      "['salma', 'keerthi', 'naveen', 'mujeeb', 'sajith', 'meghana', 'adil', 'sujitha']\n"
     ]
    }
   ],
   "source": [
    "print(students)"
   ]
  },
  {
   "cell_type": "code",
   "execution_count": null,
   "id": "00fcfc13-4b75-4a0b-bc6c-79be8831f118",
   "metadata": {},
   "outputs": [],
   "source": [
    "# req : i want to add harshita to the above list...."
   ]
  },
  {
   "cell_type": "code",
   "execution_count": 21,
   "id": "46411c0d-bec4-4606-8ac0-ce468dc923e5",
   "metadata": {},
   "outputs": [],
   "source": [
    "students.append('harshita')"
   ]
  },
  {
   "cell_type": "code",
   "execution_count": 23,
   "id": "f212d02a-b7bd-4496-b37f-2968cdf06437",
   "metadata": {},
   "outputs": [
    {
     "name": "stdout",
     "output_type": "stream",
     "text": [
      "['salma', 'keerthi', 'naveen', 'mujeeb', 'sajith', 'meghana', 'adil', 'sujitha', 'harshita']\n"
     ]
    }
   ],
   "source": [
    "print(students)"
   ]
  },
  {
   "cell_type": "code",
   "execution_count": null,
   "id": "84e51946-fc4b-4362-a7dc-e87e90fa3eee",
   "metadata": {},
   "outputs": [],
   "source": [
    "# req : i want to add neha at 2nd index position...."
   ]
  },
  {
   "cell_type": "code",
   "execution_count": 25,
   "id": "d327e1eb-61d8-4d32-9459-16a33525d217",
   "metadata": {},
   "outputs": [],
   "source": [
    "students.insert(2,'neha')"
   ]
  },
  {
   "cell_type": "code",
   "execution_count": 27,
   "id": "922e79f3-c203-4dce-8503-576ddf035096",
   "metadata": {},
   "outputs": [
    {
     "name": "stdout",
     "output_type": "stream",
     "text": [
      "['salma', 'keerthi', 'neha', 'naveen', 'mujeeb', 'sajith', 'meghana', 'adil', 'sujitha', 'harshita']\n"
     ]
    }
   ],
   "source": [
    "print(students)"
   ]
  },
  {
   "cell_type": "code",
   "execution_count": null,
   "id": "4bc786e9-2693-48cc-acd3-3a761a2b4df8",
   "metadata": {},
   "outputs": [],
   "source": []
  },
  {
   "cell_type": "code",
   "execution_count": null,
   "id": "7dfa2459-12c3-45ef-962c-723b3cfcd2b3",
   "metadata": {},
   "outputs": [],
   "source": [
    "Interview_question : What is the different between append method and insert method in the list datatype **"
   ]
  },
  {
   "cell_type": "code",
   "execution_count": null,
   "id": "18fc3d02-0809-4266-bdf8-8ada8393af6f",
   "metadata": {},
   "outputs": [],
   "source": []
  },
  {
   "cell_type": "code",
   "execution_count": 29,
   "id": "675c1d76-5ef6-4835-b4db-3810a9d010e3",
   "metadata": {},
   "outputs": [
    {
     "name": "stdout",
     "output_type": "stream",
     "text": [
      "['salma', 'keerthi', 'neha', 'naveen', 'mujeeb', 'sajith', 'meghana', 'adil', 'sujitha', 'harshita']\n"
     ]
    }
   ],
   "source": [
    "print(students)"
   ]
  },
  {
   "cell_type": "code",
   "execution_count": null,
   "id": "886dd669-7040-4930-bd99-5bdbba41946c",
   "metadata": {},
   "outputs": [],
   "source": [
    "# req : i want to modify keerthi name to kiran...."
   ]
  },
  {
   "cell_type": "code",
   "execution_count": 31,
   "id": "8f616a1b-9cff-4a83-9a33-8e79f2c5435f",
   "metadata": {},
   "outputs": [],
   "source": [
    "students[1] = 'kiran'"
   ]
  },
  {
   "cell_type": "code",
   "execution_count": 33,
   "id": "ba796c14-da1e-4647-86df-7527be57d4cb",
   "metadata": {},
   "outputs": [
    {
     "name": "stdout",
     "output_type": "stream",
     "text": [
      "['salma', 'kiran', 'neha', 'naveen', 'mujeeb', 'sajith', 'meghana', 'adil', 'sujitha', 'harshita']\n"
     ]
    }
   ],
   "source": [
    "print(students)"
   ]
  },
  {
   "cell_type": "code",
   "execution_count": null,
   "id": "59551a30-83c4-4c47-844e-0e1292b7e422",
   "metadata": {},
   "outputs": [],
   "source": [
    "# req : i want to delete naveen in the above list....?"
   ]
  },
  {
   "cell_type": "code",
   "execution_count": 43,
   "id": "15a54990-3c40-474a-a780-b3da98c74522",
   "metadata": {},
   "outputs": [
    {
     "ename": "AttributeError",
     "evalue": "'str' object has no attribute 'delete'",
     "output_type": "error",
     "traceback": [
      "\u001b[1;31m---------------------------------------------------------------------------\u001b[0m",
      "\u001b[1;31mAttributeError\u001b[0m                            Traceback (most recent call last)",
      "Cell \u001b[1;32mIn[43], line 1\u001b[0m\n\u001b[1;32m----> 1\u001b[0m students[\u001b[38;5;241m3\u001b[39m]\u001b[38;5;241m.\u001b[39mdelete\n",
      "\u001b[1;31mAttributeError\u001b[0m: 'str' object has no attribute 'delete'"
     ]
    }
   ],
   "source": [
    "students[3].delete"
   ]
  },
  {
   "cell_type": "code",
   "execution_count": 39,
   "id": "c6ad863e-72a9-48c8-8a38-b1135fb7e4ef",
   "metadata": {},
   "outputs": [],
   "source": [
    "del students[3]"
   ]
  },
  {
   "cell_type": "code",
   "execution_count": 41,
   "id": "b527c670-590b-4e57-ac0b-b4d1f7b2bb4b",
   "metadata": {},
   "outputs": [
    {
     "name": "stdout",
     "output_type": "stream",
     "text": [
      "['salma', 'kiran', 'neha', 'mujeeb', 'sajith', 'meghana', 'adil', 'sujitha', 'harshita']\n"
     ]
    }
   ],
   "source": [
    "print(students)"
   ]
  },
  {
   "cell_type": "code",
   "execution_count": null,
   "id": "bc29e2fa-2a0b-4018-8fbd-61832a8bfb57",
   "metadata": {},
   "outputs": [],
   "source": []
  },
  {
   "cell_type": "code",
   "execution_count": null,
   "id": "00920e8c-dfe8-41c7-ab8c-ed6f77949563",
   "metadata": {},
   "outputs": [],
   "source": []
  },
  {
   "cell_type": "code",
   "execution_count": null,
   "id": "7201ca16-c03e-45f4-bc45-d36db8ec61cc",
   "metadata": {},
   "outputs": [],
   "source": []
  }
 ],
 "metadata": {
  "kernelspec": {
   "display_name": "Python 3 (ipykernel)",
   "language": "python",
   "name": "python3"
  },
  "language_info": {
   "codemirror_mode": {
    "name": "ipython",
    "version": 3
   },
   "file_extension": ".py",
   "mimetype": "text/x-python",
   "name": "python",
   "nbconvert_exporter": "python",
   "pygments_lexer": "ipython3",
   "version": "3.12.4"
  }
 },
 "nbformat": 4,
 "nbformat_minor": 5
}
