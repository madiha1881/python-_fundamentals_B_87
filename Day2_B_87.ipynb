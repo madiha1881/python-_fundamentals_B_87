{
 "cells": [
  {
   "cell_type": "code",
   "execution_count": 16,
   "id": "a1a195e7-3a15-43ea-a68e-4b2b56add7df",
   "metadata": {},
   "outputs": [
    {
     "name": "stdout",
     "output_type": "stream",
     "text": [
      "Hello all welcome is the python programming world!\n"
     ]
    }
   ],
   "source": [
    "print(\"Hello all welcome is the python programming world!\")"
   ]
  },
  {
   "cell_type": "code",
   "execution_count": null,
   "id": "c8d48980-2373-4732-ba25-4fa29c4f0d16",
   "metadata": {},
   "outputs": [],
   "source": [
    "#shift + enter button on the keyboard"
   ]
  },
  {
   "cell_type": "code",
   "execution_count": null,
   "id": "00ec0eef-be03-4a70-b7e2-4f2999f499f2",
   "metadata": {},
   "outputs": [],
   "source": [
    "Introduction to python programming:"
   ]
  },
  {
   "cell_type": "code",
   "execution_count": null,
   "id": "3fab6846-db75-425b-9e31-d8b56fd5e668",
   "metadata": {},
   "outputs": [],
   "source": [
    "Understanding the variables in python :"
   ]
  },
  {
   "cell_type": "code",
   "execution_count": 18,
   "id": "6bb7d7bf-162a-49ff-a6e8-7f68feb9d5da",
   "metadata": {},
   "outputs": [],
   "source": [
    "x = 2\n",
    "y = 3"
   ]
  },
  {
   "cell_type": "code",
   "execution_count": 20,
   "id": "6d8962e2-021a-4ab3-99b2-035f7e881f00",
   "metadata": {},
   "outputs": [
    {
     "name": "stdout",
     "output_type": "stream",
     "text": [
      "5\n"
     ]
    }
   ],
   "source": [
    "z =x+y\n",
    "print (z)"
   ]
  },
  {
   "cell_type": "code",
   "execution_count": null,
   "id": "570831ff-1c62-478b-9ceb-40fc5d5ef392",
   "metadata": {},
   "outputs": [],
   "source": [
    "Rules for declaring the varaibles :"
   ]
  },
  {
   "cell_type": "code",
   "execution_count": null,
   "id": "42e43d43-d8d1-48a7-b5f2-1dd2feb54649",
   "metadata": {},
   "outputs": [],
   "source": [
    "Rule No - 1 : No Namespaces while declaring the variable name"
   ]
  },
  {
   "cell_type": "code",
   "execution_count": 22,
   "id": "ff851184-477e-4873-b9ed-231da3254d9e",
   "metadata": {},
   "outputs": [
    {
     "ename": "SyntaxError",
     "evalue": "invalid syntax (4051653174.py, line 1)",
     "output_type": "error",
     "traceback": [
      "\u001b[1;36m  Cell \u001b[1;32mIn[22], line 1\u001b[1;36m\u001b[0m\n\u001b[1;33m    first name = \"Faiyaz\"\u001b[0m\n\u001b[1;37m          ^\u001b[0m\n\u001b[1;31mSyntaxError\u001b[0m\u001b[1;31m:\u001b[0m invalid syntax\n"
     ]
    }
   ],
   "source": [
    "first name = \"Faiyaz\"\n",
    "\n",
    "print(first name)"
   ]
  },
  {
   "cell_type": "code",
   "execution_count": 24,
   "id": "217e869b-ed9e-46fd-b8c2-d234a2c59cdc",
   "metadata": {},
   "outputs": [
    {
     "name": "stdout",
     "output_type": "stream",
     "text": [
      "Faiyaz\n"
     ]
    }
   ],
   "source": [
    "firstname = \"Faiyaz\"\n",
    "\n",
    "print(firstname)"
   ]
  },
  {
   "cell_type": "code",
   "execution_count": null,
   "id": "5f24ad24-aba7-4584-ace9-012caa984c9e",
   "metadata": {},
   "outputs": [],
   "source": [
    "Rule No 2 : A varaible name should not start with a number **"
   ]
  },
  {
   "cell_type": "code",
   "execution_count": 26,
   "id": "5c5ba35a-ee52-4c6d-85fa-9a0e68850d4f",
   "metadata": {},
   "outputs": [
    {
     "ename": "SyntaxError",
     "evalue": "invalid decimal literal (445378971.py, line 1)",
     "output_type": "error",
     "traceback": [
      "\u001b[1;36m  Cell \u001b[1;32mIn[26], line 1\u001b[1;36m\u001b[0m\n\u001b[1;33m    1name = \"Madiha\"\u001b[0m\n\u001b[1;37m    ^\u001b[0m\n\u001b[1;31mSyntaxError\u001b[0m\u001b[1;31m:\u001b[0m invalid decimal literal\n"
     ]
    }
   ],
   "source": [
    "1name = \"Madiha\"\n",
    "\n",
    "print(1name)"
   ]
  },
  {
   "cell_type": "code",
   "execution_count": 28,
   "id": "3ac0757b-06f1-4ee7-87c3-2f2b87f6d2c9",
   "metadata": {},
   "outputs": [
    {
     "name": "stdout",
     "output_type": "stream",
     "text": [
      "Madiha\n"
     ]
    }
   ],
   "source": [
    "name1 = \"Madiha\"\n",
    "\n",
    "print(name1)"
   ]
  },
  {
   "cell_type": "code",
   "execution_count": null,
   "id": "db26bd9a-9b99-46c4-b894-eb1199dfb5f5",
   "metadata": {},
   "outputs": [],
   "source": [
    "Rule no 3 : A varaible name should not contain anyspecial characters"
   ]
  },
  {
   "cell_type": "code",
   "execution_count": null,
   "id": "d019c034-7c3a-428a-9650-0f20368363dd",
   "metadata": {},
   "outputs": [],
   "source": [
    "@ # $ % ^ & *"
   ]
  },
  {
   "cell_type": "code",
   "execution_count": 39,
   "id": "1191c43b-fd55-4389-bc56-9b3155d0f558",
   "metadata": {},
   "outputs": [
    {
     "ename": "SyntaxError",
     "evalue": "invalid syntax (2479679356.py, line 1)",
     "output_type": "error",
     "traceback": [
      "\u001b[1;36m  Cell \u001b[1;32mIn[39], line 1\u001b[1;36m\u001b[0m\n\u001b[1;33m    name@ = \"naveed\"\u001b[0m\n\u001b[1;37m          ^\u001b[0m\n\u001b[1;31mSyntaxError\u001b[0m\u001b[1;31m:\u001b[0m invalid syntax\n"
     ]
    }
   ],
   "source": [
    "name@ = \"naveed\"\n",
    "\n",
    "print(name@)"
   ]
  },
  {
   "cell_type": "code",
   "execution_count": null,
   "id": "1dcf16f3-32f3-4bda-bc1a-2e34a2eaeedd",
   "metadata": {},
   "outputs": [],
   "source": []
  },
  {
   "cell_type": "code",
   "execution_count": null,
   "id": "a5ea63bb-c9fd-4f13-b11d-a808edf98809",
   "metadata": {},
   "outputs": [],
   "source": [
    "Introdution to Datatypes :\n",
    "\n",
    "1. Strings       =======> str\n",
    "\n",
    "2. Numbers       =======> integers (int) floats (decimals) 0,1,0.2,1.5 ====> float\n",
    "\n",
    "3. List          =======> list\n",
    "\n",
    "4. Tuple         =======> tuple\n",
    "\n",
    "5. Dictionaries  =======> dict"
   ]
  },
  {
   "cell_type": "code",
   "execution_count": null,
   "id": "0be21227-a267-401a-918c-73ef6cb6d77b",
   "metadata": {},
   "outputs": [],
   "source": []
  },
  {
   "cell_type": "code",
   "execution_count": null,
   "id": "0d7629a3-9668-468e-91c7-cfc89a33905a",
   "metadata": {},
   "outputs": [],
   "source": [
    "Classification of datatypes :\n",
    "\n",
    "Broadly datatypes are classified in to two categeories :\n",
    "\n",
    "1. mutable datatypes     ======> which we can be able to edit / alter     =====> flexible in nature\n",
    "\n",
    "2. immutable datatypes   ======> which we cannot be able to edit / alter  =====> fixed in nature"
   ]
  },
  {
   "cell_type": "code",
   "execution_count": null,
   "id": "31f2566f-948d-48f1-9b18-a515c89f5091",
   "metadata": {},
   "outputs": [],
   "source": []
  },
  {
   "cell_type": "code",
   "execution_count": null,
   "id": "805fae4a-aa71-47da-88b6-0dfc6b8438b2",
   "metadata": {},
   "outputs": [],
   "source": [
    "Introduction to string datatype :\n",
    "\n",
    " Defination    : A string is nothing but a series of characters daclared in quotes.\n",
    "\n",
    "Classification : It is classified as an immutable datatype.\n",
    "\n",
    "how to declare the string dstatype --------> ?\n",
    "\n",
    "1. Single quote =====> '  '\n",
    "\n",
    "2. Double quote =====> \"  \""
   ]
  },
  {
   "cell_type": "code",
   "execution_count": null,
   "id": "79928e41-e765-4ad9-b16b-be2784b3dc2f",
   "metadata": {},
   "outputs": [],
   "source": []
  },
  {
   "cell_type": "code",
   "execution_count": 45,
   "id": "12cacb44-59d6-4426-8b9b-c269686d1f27",
   "metadata": {},
   "outputs": [
    {
     "name": "stdout",
     "output_type": "stream",
     "text": [
      "raju\n"
     ]
    }
   ],
   "source": [
    "name = 'raju'    # single quote\n",
    "\n",
    "print(name)"
   ]
  },
  {
   "cell_type": "code",
   "execution_count": 47,
   "id": "5842e083-1313-42d9-8f94-66f7c527127d",
   "metadata": {},
   "outputs": [
    {
     "name": "stdout",
     "output_type": "stream",
     "text": [
      "joseph\n"
     ]
    }
   ],
   "source": [
    "name2 = \"joseph\" # double quote\n",
    "\n",
    "print(name2)"
   ]
  },
  {
   "cell_type": "code",
   "execution_count": null,
   "id": "11187ca2-dddd-4f4e-b089-918be093cf70",
   "metadata": {},
   "outputs": [],
   "source": []
  },
  {
   "cell_type": "code",
   "execution_count": null,
   "id": "a75e1147-1688-45e2-b25e-8940dc057f79",
   "metadata": {},
   "outputs": [],
   "source": [
    "Introduction to string methods :"
   ]
  },
  {
   "cell_type": "code",
   "execution_count": 54,
   "id": "2df4b1fe-d945-4e24-a1cf-2aed6eeabc5a",
   "metadata": {},
   "outputs": [
    {
     "data": {
      "text/plain": [
       "str"
      ]
     },
     "execution_count": 54,
     "metadata": {},
     "output_type": "execute_result"
    }
   ],
   "source": [
    "type(name)"
   ]
  },
  {
   "cell_type": "code",
   "execution_count": 56,
   "id": "532b2fc5-e6a6-4963-a064-cea4548b2f99",
   "metadata": {},
   "outputs": [
    {
     "data": {
      "text/plain": [
       "str"
      ]
     },
     "execution_count": 56,
     "metadata": {},
     "output_type": "execute_result"
    }
   ],
   "source": [
    "type(name2)"
   ]
  },
  {
   "cell_type": "code",
   "execution_count": 58,
   "id": "d08c89cf-ab00-442f-aa2d-2ae7a9ea0f68",
   "metadata": {},
   "outputs": [
    {
     "name": "stdout",
     "output_type": "stream",
     "text": [
      "madiha kowsar\n"
     ]
    }
   ],
   "source": [
    "fullname = 'madiha kowsar'\n",
    "\n",
    "print(fullname)"
   ]
  },
  {
   "cell_type": "code",
   "execution_count": null,
   "id": "85a08194-36b8-41ff-907e-3fe5c7a9e31e",
   "metadata": {},
   "outputs": [],
   "source": [
    "#req: i want to correct the format.....?"
   ]
  },
  {
   "cell_type": "code",
   "execution_count": 60,
   "id": "d1fc71f7-3315-47bd-905a-ac9b9cc2ffe7",
   "metadata": {},
   "outputs": [
    {
     "name": "stdout",
     "output_type": "stream",
     "text": [
      "Madiha Kowsar\n"
     ]
    }
   ],
   "source": [
    "print(fullname.title())"
   ]
  },
  {
   "cell_type": "code",
   "execution_count": null,
   "id": "666fb141-4238-49f7-89ec-32b0ac98e665",
   "metadata": {},
   "outputs": [],
   "source": [
    "# req : i want the full name in capital letters"
   ]
  },
  {
   "cell_type": "code",
   "execution_count": 62,
   "id": "34ba4321-3cfb-4c33-b32b-292d11d1ed78",
   "metadata": {},
   "outputs": [
    {
     "name": "stdout",
     "output_type": "stream",
     "text": [
      "MADIHA KOWSAR\n"
     ]
    }
   ],
   "source": [
    "print(fullname.upper())"
   ]
  },
  {
   "cell_type": "code",
   "execution_count": null,
   "id": "50ecb372-fa16-466e-b89d-f78dfeaffb06",
   "metadata": {},
   "outputs": [],
   "source": [
    "# req : i want the full name in small case letters"
   ]
  },
  {
   "cell_type": "code",
   "execution_count": 64,
   "id": "92bfa5ca-9616-4475-ad94-e08c0446ffea",
   "metadata": {},
   "outputs": [
    {
     "name": "stdout",
     "output_type": "stream",
     "text": [
      "madiha kowsar\n"
     ]
    }
   ],
   "source": [
    "print(fullname.lower())"
   ]
  },
  {
   "cell_type": "code",
   "execution_count": null,
   "id": "8d282358-d250-428f-aaa3-e77a0596f0b6",
   "metadata": {},
   "outputs": [],
   "source": []
  },
  {
   "cell_type": "code",
   "execution_count": null,
   "id": "dc8327db-95d5-4d5b-8d98-1c9e3557fde0",
   "metadata": {},
   "outputs": [],
   "source": []
  }
 ],
 "metadata": {
  "kernelspec": {
   "display_name": "Python 3 (ipykernel)",
   "language": "python",
   "name": "python3"
  },
  "language_info": {
   "codemirror_mode": {
    "name": "ipython",
    "version": 3
   },
   "file_extension": ".py",
   "mimetype": "text/x-python",
   "name": "python",
   "nbconvert_exporter": "python",
   "pygments_lexer": "ipython3",
   "version": "3.12.4"
  }
 },
 "nbformat": 4,
 "nbformat_minor": 5
}
